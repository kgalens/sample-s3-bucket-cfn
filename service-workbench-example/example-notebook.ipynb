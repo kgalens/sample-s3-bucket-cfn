{
 "cells": [
  {
   "cell_type": "markdown",
   "id": "powerful-brand",
   "metadata": {},
   "source": [
    "## Install Required Libraries\n",
    "These should already be installed if using the ServiceWorkbench product."
   ]
  },
  {
   "cell_type": "code",
   "execution_count": null,
   "id": "turned-scotland",
   "metadata": {},
   "outputs": [],
   "source": [
    "#if (!requireNamespace(\"BiocManager\", quietly = TRUE))\n",
    "#    install.packages(\"BiocManager\")\n",
    "\n",
    "#BiocManager::install(\"DESeq2\")\n",
    "#BiocManager::install(\"tximport\")\n",
    "#BiocManager::install(\"tidyverse\")\n",
    "#BiocManager::install(\"botor\")\n",
    "#BiocManager::install(\"apeglm\")\n",
    "#BiocManager::install(\"ashr\")\n",
    "#BiocManager::install(\"vsn\")\n",
    "#BiocManager::install(\"pheatmap\")\n",
    "#BiocManager::install(\"tximportData\")"
   ]
  },
  {
   "cell_type": "code",
   "execution_count": null,
   "id": "golden-laugh",
   "metadata": {},
   "outputs": [],
   "source": [
    "library(\"tximportData\")\n",
    "library(\"DESeq2\")\n",
    "library(\"tximport\")\n",
    "library(\"tidyverse\")\n",
    "library(\"botor\")\n",
    "library(\"apeglm\")\n",
    "library(\"ashr\")\n",
    "library(\"readr\")"
   ]
  },
  {
   "cell_type": "markdown",
   "id": "preliminary-extreme",
   "metadata": {},
   "source": [
    "# Import Data\n",
    "At a high level, we need a named vector of file paths (S3 URIs). These will be read in directly from S3. We also need the correct tx2gene mappings which can be retrieved from the tximportData library as shown below. The transcripts present in the analysis should match the mapping file used."
   ]
  },
  {
   "cell_type": "markdown",
   "id": "first-checklist",
   "metadata": {},
   "source": [
    "## Option 1: Import your own data from S3"
   ]
  },
  {
   "cell_type": "code",
   "execution_count": null,
   "id": "satellite-possibility",
   "metadata": {},
   "outputs": [],
   "source": [
    "importer_function <- function(x) {\n",
    "    s3_read(x, read_tsv)\n",
    "}"
   ]
  },
  {
   "cell_type": "code",
   "execution_count": null,
   "id": "boxed-arrangement",
   "metadata": {},
   "outputs": [],
   "source": [
    "# Read in samples description file, expected to have a column which describes the condition to test against and rownames which map to the samples named in the file_paths vector below\n",
    "sample_names <- c(\"ERR188297\",\"ERR188088\",\"ERR188329\",\"ERR188288\",\"ERR188021\",\"ERR188356\")\n",
    "samples <- data.frame(\"run\" = sample_names)\n",
    "samples$condition <- factor(rep(c(\"A\",\"B\"), each=3))\n",
    "rownames(samples) <- samples$run\n",
    "samples"
   ]
  },
  {
   "cell_type": "code",
   "execution_count": null,
   "id": "accurate-gentleman",
   "metadata": {},
   "outputs": [],
   "source": [
    "file_paths <- c(\n",
    "    \"s3://<BUCKET>ERR188297.isoforms.results.gz\",\n",
    "    \"s3://<BUCKET>ERR188088.isoforms.results.gz\",\n",
    "    \"s3://<BUCKET>ERR188329.isoforms.results.gz\",\n",
    "    \"s3://<BUCKET>ERR188288.isoforms.results.gz\",\n",
    "    \"s3://<BUCKET>ERR188021.isoforms.results.gz\",\n",
    "    \"s3://<BUCKET>ERR188356.isoforms.results.gz\")\n",
    "names(file_paths) <- samples$run\n",
    "file_paths"
   ]
  },
  {
   "cell_type": "code",
   "execution_count": null,
   "id": "preceding-advocate",
   "metadata": {},
   "outputs": [],
   "source": [
    "# Read in the tx2gene csv\n",
    "gencode <- read_csv(file.path(dir,\"tx2gene.gencode.v27.csv\"))\n",
    "ensembl <- read_csv(file.path(dir,\"tx2gene.ensembl.v87.csv\"))\n",
    "refseq <- read_csv(file.path(dir,\"tx2gene.csv\"))\n",
    "tx2gene <- gencode"
   ]
  },
  {
   "cell_type": "code",
   "execution_count": null,
   "id": "deadly-fiction",
   "metadata": {},
   "outputs": [],
   "source": [
    "txi <- suppressMessages(tximport(\n",
    "  files = file_paths,\n",
    "  type = \"rsem\",\n",
    "  txIn = TRUE,\n",
    "  txOut = TRUE,\n",
    "  importer = importer_function,\n",
    "  tx2gene=tx2gene,\n",
    "  existenceOptional = TRUE))"
   ]
  },
  {
   "cell_type": "markdown",
   "id": "illegal-slave",
   "metadata": {},
   "source": [
    "## Option 2: Grab Example Data from tximportData"
   ]
  },
  {
   "cell_type": "code",
   "execution_count": null,
   "id": "exposed-doctrine",
   "metadata": {},
   "outputs": [],
   "source": [
    "dir <- system.file(\"extdata\", package = \"tximportData\")\n",
    "samples <- read.table(file.path(dir, \"samples.txt\"), header = TRUE)\n",
    "samples$condition <- factor(rep(c(\"A\",\"B\"),each=3))\n",
    "file_paths <- sort(list.files(file.path(dir, \"rsem\"), pattern=\"*isoforms.results.gz\", full.names=TRUE, recursive=TRUE))\n",
    "names(file_paths) <- sort(samples$run)\n",
    "file_paths"
   ]
  },
  {
   "cell_type": "code",
   "execution_count": null,
   "id": "nearby-reviewer",
   "metadata": {},
   "outputs": [],
   "source": [
    "samples"
   ]
  },
  {
   "cell_type": "code",
   "execution_count": null,
   "id": "rural-bones",
   "metadata": {},
   "outputs": [],
   "source": [
    "# Read in the tx2gene csv\n",
    "gencode <- read_csv(file.path(dir,\"tx2gene.gencode.v27.csv\"))\n",
    "ensembl <- read_csv(file.path(dir,\"tx2gene.ensembl.v87.csv\"))\n",
    "refseq <- read_csv(file.path(dir,\"tx2gene.csv\"))\n",
    "tx2gene <- gencode"
   ]
  },
  {
   "cell_type": "code",
   "execution_count": null,
   "id": "expressed-identity",
   "metadata": {},
   "outputs": [],
   "source": [
    "txi <- suppressMessages(tximport(\n",
    "  files = file_paths,\n",
    "  type = \"rsem\",\n",
    "  txIn = TRUE,\n",
    "  txOut = TRUE,\n",
    "  tx2gene=tx2gene,\n",
    "  existenceOptional = TRUE))"
   ]
  },
  {
   "cell_type": "code",
   "execution_count": null,
   "id": "reserved-stadium",
   "metadata": {},
   "outputs": [],
   "source": [
    "head(txi$counts)"
   ]
  },
  {
   "cell_type": "markdown",
   "id": "metric-recall",
   "metadata": {},
   "source": [
    "# DESeq2 Analysis"
   ]
  },
  {
   "cell_type": "code",
   "execution_count": null,
   "id": "thrown-philip",
   "metadata": {},
   "outputs": [],
   "source": [
    "# Read in count matrix created using tximport\n",
    "ddsTxi <- DESeqDataSetFromTximport(txi, colData = samples, design = ~ condition)"
   ]
  },
  {
   "cell_type": "code",
   "execution_count": null,
   "id": "expressed-independence",
   "metadata": {},
   "outputs": [],
   "source": [
    "dds <- DESeq(ddsTxi)"
   ]
  },
  {
   "cell_type": "code",
   "execution_count": null,
   "id": "suitable-capability",
   "metadata": {},
   "outputs": [],
   "source": [
    "res <- results(dds)\n",
    "res"
   ]
  },
  {
   "cell_type": "code",
   "execution_count": null,
   "id": "informed-hydrogen",
   "metadata": {},
   "outputs": [],
   "source": [
    "resultsNames(dds)"
   ]
  },
  {
   "cell_type": "markdown",
   "id": "democratic-buyer",
   "metadata": {},
   "source": [
    "## Log fold change shrinkage for visualization and ranking\n",
    "\n",
    "*Note:* The coefficient name is dependent on the condition configured as part of the experiment. Select the correct name from the output of the previous command (`resultsNames(dds)`)"
   ]
  },
  {
   "cell_type": "code",
   "execution_count": null,
   "id": "multiple-gregory",
   "metadata": {},
   "outputs": [],
   "source": [
    "coef_name <- \"condition_B_vs_A\"\n",
    "resLFC <- lfcShrink(dds, coef=2, type=\"apeglm\")"
   ]
  },
  {
   "cell_type": "code",
   "execution_count": null,
   "id": "natural-fields",
   "metadata": {},
   "outputs": [],
   "source": [
    "resLFC"
   ]
  },
  {
   "cell_type": "markdown",
   "id": "private-history",
   "metadata": {},
   "source": [
    "## p-values and adjusted p-values"
   ]
  },
  {
   "cell_type": "code",
   "execution_count": null,
   "id": "major-simon",
   "metadata": {},
   "outputs": [],
   "source": [
    "resOrdered <- res[order(res$pvalue),]"
   ]
  },
  {
   "cell_type": "code",
   "execution_count": null,
   "id": "foreign-homeless",
   "metadata": {},
   "outputs": [],
   "source": [
    "# Summarize basic tallies\n",
    "summary(res)"
   ]
  },
  {
   "cell_type": "code",
   "execution_count": null,
   "id": "developmental-version",
   "metadata": {},
   "outputs": [],
   "source": [
    "# How many adjusted p-values are less than 0.1?\n",
    "sum(res$padj < 0.1, na.rm=TRUE)"
   ]
  },
  {
   "cell_type": "markdown",
   "id": "agreed-trademark",
   "metadata": {},
   "source": [
    "## Exploring and exporting Results\n",
    "\n",
    "### MA-plot"
   ]
  },
  {
   "cell_type": "code",
   "execution_count": null,
   "id": "reported-tribe",
   "metadata": {},
   "outputs": [],
   "source": [
    "plotMA(res, ylim=c(-2,2))"
   ]
  },
  {
   "cell_type": "code",
   "execution_count": null,
   "id": "acquired-operator",
   "metadata": {},
   "outputs": [],
   "source": [
    "plotMA(resLFC, ylim=c(-5,5))"
   ]
  },
  {
   "cell_type": "markdown",
   "id": "super-alberta",
   "metadata": {},
   "source": [
    "## Alternative shrinkage estimators"
   ]
  },
  {
   "cell_type": "code",
   "execution_count": null,
   "id": "african-differential",
   "metadata": {},
   "outputs": [],
   "source": [
    "resNorm <- lfcShrink(dds, coef=2, type=\"normal\")\n",
    "resAsh <- lfcShrink(dds, coef=2, type=\"ashr\")"
   ]
  },
  {
   "cell_type": "code",
   "execution_count": null,
   "id": "french-investing",
   "metadata": {},
   "outputs": [],
   "source": [
    "par(mfrow=c(1,3), mar=c(4,4,2,1))\n",
    "xlim <- c(1,1e5); ylim <- c(-3,3)\n",
    "plotMA(resLFC, xlim=xlim, ylim=ylim, main=\"apeglm\")\n",
    "plotMA(resNorm, xlim=xlim, ylim=ylim, main=\"normal\")\n",
    "plotMA(resAsh, xlim=xlim, ylim=ylim, main=\"ashr\")"
   ]
  },
  {
   "cell_type": "markdown",
   "id": "exact-tuning",
   "metadata": {},
   "source": [
    "## Plot Counts"
   ]
  },
  {
   "cell_type": "code",
   "execution_count": null,
   "id": "impressed-scene",
   "metadata": {},
   "outputs": [],
   "source": [
    "plotCounts(dds, gene=which.min(res$padj), intgroup=\"condition\")"
   ]
  },
  {
   "cell_type": "code",
   "execution_count": null,
   "id": "generic-nebraska",
   "metadata": {},
   "outputs": [],
   "source": [
    "d <- plotCounts(dds, gene=which.min(res$padj), intgroup=\"condition\", \n",
    "                returnData=TRUE)\n",
    "library(\"ggplot2\")\n",
    "ggplot(d, aes(x=condition, y=count)) + \n",
    "  geom_point(position=position_jitter(w=0.1,h=0)) + \n",
    "  scale_y_log10(breaks=c(25,100,400))"
   ]
  },
  {
   "cell_type": "code",
   "execution_count": null,
   "id": "confidential-jesus",
   "metadata": {},
   "outputs": [],
   "source": [
    "mcols(res)$description"
   ]
  },
  {
   "cell_type": "markdown",
   "id": "infrared-large",
   "metadata": {},
   "source": [
    "## Exporting results to CSV files"
   ]
  },
  {
   "cell_type": "code",
   "execution_count": null,
   "id": "italian-heater",
   "metadata": {},
   "outputs": [],
   "source": [
    "write.csv(as.data.frame(resOrdered),\n",
    "         file=\"condition_treated_results.csv\")"
   ]
  },
  {
   "cell_type": "code",
   "execution_count": null,
   "id": "completed-triangle",
   "metadata": {},
   "outputs": [],
   "source": [
    "#Exporting only the results which pass an adjusted p value threshold can be accomplished with the subset function, followed by the write.csv function.\n",
    "resSig <- subset(resOrdered, padj < 0.1)\n",
    "resSig"
   ]
  },
  {
   "cell_type": "markdown",
   "id": "dominican-imperial",
   "metadata": {},
   "source": [
    "# Data transoformations and visualizations"
   ]
  },
  {
   "cell_type": "markdown",
   "id": "conservative-novel",
   "metadata": {},
   "source": [
    "## Count data transformations"
   ]
  },
  {
   "cell_type": "markdown",
   "id": "viral-publication",
   "metadata": {},
   "source": [
    "## Extracting transformed values"
   ]
  },
  {
   "cell_type": "code",
   "execution_count": null,
   "id": "pursuant-boring",
   "metadata": {},
   "outputs": [],
   "source": [
    "vsd <- vst(dds, blind=FALSE)\n",
    "rld <- rlog(dds, blind=FALSE)\n",
    "head(assay(vsd), 3)"
   ]
  },
  {
   "cell_type": "markdown",
   "id": "convinced-movement",
   "metadata": {},
   "source": [
    "## Effects of transformations on the variance"
   ]
  },
  {
   "cell_type": "code",
   "execution_count": null,
   "id": "neural-knitting",
   "metadata": {},
   "outputs": [],
   "source": [
    "# this gives log2(n + 1)\n",
    "ntd <- normTransform(dds)\n",
    "library(\"vsn\")\n",
    "meanSdPlot(assay(ntd))"
   ]
  },
  {
   "cell_type": "code",
   "execution_count": null,
   "id": "special-advancement",
   "metadata": {},
   "outputs": [],
   "source": [
    "meanSdPlot(assay(vsd))"
   ]
  },
  {
   "cell_type": "code",
   "execution_count": null,
   "id": "breeding-owner",
   "metadata": {},
   "outputs": [],
   "source": [
    "meanSdPlot(assay(rld))"
   ]
  },
  {
   "cell_type": "markdown",
   "id": "white-poland",
   "metadata": {},
   "source": [
    "# Data quality assessment by sample clustering and visualization"
   ]
  },
  {
   "cell_type": "code",
   "execution_count": null,
   "id": "committed-carolina",
   "metadata": {},
   "outputs": [],
   "source": [
    "library(\"pheatmap\")\n",
    "select <- order(rowMeans(counts(dds,normalized=TRUE)),\n",
    "                decreasing=TRUE)[1:20]\n",
    "df <- as.data.frame(colData(dds)[,\"condition\"])\n",
    "rownames(df) = colnames(dds)\n",
    "# ntd\n",
    "pheatmap(assay(ntd)[select,], cluster_rows=FALSE, show_rownames=FALSE,\n",
    "         cluster_cols=FALSE, annotation_col=df)"
   ]
  },
  {
   "cell_type": "code",
   "execution_count": null,
   "id": "imported-wagon",
   "metadata": {},
   "outputs": [],
   "source": [
    "# vsd\n",
    "pheatmap(assay(vsd)[select,], cluster_rows=FALSE, show_rownames=FALSE,\n",
    "         cluster_cols=FALSE, annotation_col=df)"
   ]
  },
  {
   "cell_type": "code",
   "execution_count": null,
   "id": "horizontal-essex",
   "metadata": {},
   "outputs": [],
   "source": [
    "# rld\n",
    "pheatmap(assay(rld)[select,], cluster_rows=FALSE, show_rownames=FALSE,\n",
    "         cluster_cols=FALSE, annotation_col=df)"
   ]
  },
  {
   "cell_type": "markdown",
   "id": "third-parts",
   "metadata": {},
   "source": [
    "## Heatmap of the sample-to-sample distances"
   ]
  },
  {
   "cell_type": "code",
   "execution_count": null,
   "id": "hidden-thickness",
   "metadata": {},
   "outputs": [],
   "source": [
    "sampleDists <- dist(t(assay(vsd)))\n",
    "library(\"RColorBrewer\")\n",
    "sampleDistMatrix <- as.matrix(sampleDists)\n",
    "rownames(sampleDistMatrix) <- paste(vsd$condition, vsd$type, sep=\"-\")\n",
    "colnames(sampleDistMatrix) <- NULL\n",
    "colors <- colorRampPalette( rev(brewer.pal(9, \"Blues\")) )(255)\n",
    "pheatmap(sampleDistMatrix,\n",
    "         clustering_distance_rows=sampleDists,\n",
    "         clustering_distance_cols=sampleDists,\n",
    "         col=colors)"
   ]
  },
  {
   "cell_type": "markdown",
   "id": "conditional-summer",
   "metadata": {},
   "source": [
    "## Principal component plot of the samples"
   ]
  },
  {
   "cell_type": "code",
   "execution_count": null,
   "id": "intended-trunk",
   "metadata": {},
   "outputs": [],
   "source": [
    "plotPCA(vsd, intgroup=c(\"condition\"))"
   ]
  },
  {
   "cell_type": "code",
   "execution_count": null,
   "id": "assured-ocean",
   "metadata": {},
   "outputs": [],
   "source": []
  }
 ],
 "metadata": {
  "kernelspec": {
   "display_name": "R",
   "language": "R",
   "name": "ir"
  },
  "language_info": {
   "codemirror_mode": "r",
   "file_extension": ".r",
   "mimetype": "text/x-r-source",
   "name": "R",
   "pygments_lexer": "r",
   "version": "4.0.3"
  }
 },
 "nbformat": 4,
 "nbformat_minor": 5
}